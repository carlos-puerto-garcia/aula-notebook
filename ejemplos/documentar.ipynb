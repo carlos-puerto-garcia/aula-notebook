{
 "cells": [
  {
   "cell_type": "markdown",
   "metadata": {},
   "source": [
    "# Jupyter Notebooks: Básico  \n",
    "\n",
    "Los [Notebooks de Jupyter](http://jupyter.org/) (evolución de _ipython notebook_) son una alternativa para la creación de documentos interactivos con visualización y ejecución de código python (al igual que de otros lenguajes), redacción de texto en markdown y html, y soporte de ecuaciones a traves de _mathjax_. La unidad básica de ejecución de Jupyter son las celdas, las cuales pueden ser de tipo `markdown` para el texto o `code` para la ejecución de código.    "
   ]
  },
  {
   "cell_type": "markdown",
   "metadata": {},
   "source": [
    "## Instalación  \n",
    "\n",
    "Para la instalación de notebook puede procederse de las siguientes formas:\n",
    "\n",
    "### Distribución Anaconda  \n",
    "\n",
    "La forma más simple de todas y que permite la instalación sin dificultades en linux, windows y mac es por medio de la distribución anaconda, una distribución de paquetes python de uso esencial en la computación científica. Los paquetes básicos para este fin se preinstalan (numpy, scipy, matplotlib, pandas, spyder y jupyter por ejemplo).  \n",
    "\n",
    "Descargue el instalador correspondiente (python 2 o 3, 32 o 64 bits, windows, linux o mac) en la página oficial de [Continuum](https://www.continuum.io/downloads). A continuación siga las instrucciones básicas para cada sistema operativo (en linux invoque bash para la ejecución del instalador).  \n",
    "\n",
    "    bash Anaconda3-4.1.1-Linux-x86_64.sh\n",
    "    \n",
    "### Distribución Miniconda  \n",
    "\n",
    "El gestor _conda_ es la utilidad de gestión de paquetes asociada a la distribución anaconda, la cual permite la instalación de paquetes python realizando la adecuada resolución de dependencias incluso cuando estas no son paquetes python. Si se requiere un mayor control sobre los paquetes instalados (computador con poca capacidad de almacenamiento, limitaciones en el consumo de red o baja memoria RAM), la opción adecuada es el uso de esta distribución, la cual solo viene por defecto con _conda_ y _python_.  \n",
    "\n",
    "Descargue el instalador corrrespondiente (python 2 o 3, 32 o 64 bits, windows, linux o mac) de la página oficial de [pydata](http://conda.pydata.org/miniconda.html), y siga las [instrucciones básicas](http://conda.pydata.org/docs/install/quick.html) de instalación para cada sistema operativo. Para el caso de linux,  \n",
    "\n",
    "    bash Miniconda3-latest-Linux-x86_64.sh\n",
    "    \n",
    "A continuación, usando `conda` se realizará la instalación de _jupyter_.\n",
    "\n",
    "    conda install jupyter\n",
    "\n",
    "### Gestor PIP  \n",
    "\n",
    "Si ya se posee una instalación previa de python, puede usar el gestor de paquetes PIP para su instalación. Este método sería el método avanzado de instalación, ya que requiere tambien una gestión extra para las dependencias que no sean python puro, como por ejemplo si se usan _bindings_ a otro lenguaje o si se requiere compilar con base a CPython API.  \n",
    "\n",
    "Partiendo de una distribución linux, se requiere:\n",
    "\n",
    "    sudo python-dev python-pip\n",
    "    sudo pip install ipython[all] jupyter\n",
    "    \n",
    "Si desea instalar los equivalentes para python3, realice el cambio acorde:\n",
    "\n",
    "    sudo python3-dev python3-pip\n",
    "    sudo pip3 install ipython[all] jupyter"
   ]
  },
  {
   "cell_type": "markdown",
   "metadata": {},
   "source": [
    "    \n",
    "## Markdown\n",
    "\n",
    "[Markdown](https://daringfireball.net/projects/markdown/) es un lenguaje de marcado diseñado con el fin de facilitar la conversión texto a web, en un formato plano que indique de forma familiar su equivalente web.  \n",
    "\n",
    "Markdown se ha popularizado y existen multiples extensiones al lenguaje, dos de las más populares corresponden a [_github flavored markdown (GFM)_](https://guides.github.com/features/mastering-markdown/) y [_Pandoc Markdown_](http://pandoc.org/MANUAL.html#pandocs-markdown). Debe prestar atención a las caracteristicas soportadas.  \n",
    "\n",
    "### Titulos  \n",
    "\n",
    "La elaboración de titulos se logra de una manera simple, asociado un número igual de \\# al nivel de titulo deseado (en correspondencia a los titulos H1 a H6 de html).  \n",
    "\n",
    "    # Jupyter Notebooks: Básico\n",
    "    ## Instalación\n",
    "    ### Distribución Anaconda \n",
    "\n",
    "### Tipo de letra y parrafos\n",
    "\n",
    "Es posible cambiar el tipo de letra usando decoradores para el texto. Es posible generar una __negrilla__ así `__negrilla__` o una _cursiva_ como `_cursiva_`. El guión bajo `_` puede ser sustituido con los mismos efectos por `*`. Si se desea resaltar un texto como código, de la forma que se realizo en este parrafo, debe usar los _backticks_ para este fin, así ` `_cursiva_` `.  \n",
    "\n",
    "Markdown carece en su forma original de otras formas de formato de texto, sin embargo si se posee conocimiento html, se puede usar este directamente en markdown para generar <u>subrayado</u> usando la etiqueta asociada `<u>subrayado</u>`.  \n",
    "\n",
    "Para separar un parrafo de otro, debe dejarse una linea vacia, y para forzar el cambio de linea se debe dejar doble espacio al final de la linea.  \n",
    "\n",
    "### Listas  \n",
    "\n",
    "Las listas en markdown son posibles tanto ordenadas como no ordenadas. Para la generación de listas ordenadas basta inicial las lineas con un número arbitrario seguido inmediatamente de punto, y separar con un espacio el texto a listar. Las listas deben iniciar tras una linea vacia, y los elementos deben terminar con forzado de linea nueva.\n",
    "\n",
    "En el caso de listas no ordenadas, puede iniciar indistintamente con los simbolos `+`, `-` y `*`, y cumplir las condiciones de linea vacia al inicio, espacio tras la viñeta y forzado de nueva linea al final.  \n",
    "\n",
    "Código:  \n",
    "\n",
    "    1. Elemento 1  \n",
    "    1. Elemento 2  \n",
    "    35. Elemento 3  \n",
    "    0. Elemento 4\n",
    "        - Subelemento 1  \n",
    "        + Subelemento 2  \n",
    "        * Subelemento 3\n",
    "            + Subsubelemento\n",
    "\n",
    "Resultado:  \n",
    "\n",
    "1. Elemento 1  \n",
    "1. Elemento 2  \n",
    "35. Elemento 3  \n",
    "0. Elemento 4\n",
    "   - Subelemento 1  \n",
    "   + Subelemento 2  \n",
    "   * Subelemento 3  \n",
    "       + Subsubelemento\n",
    "   \n",
    "En el ejemplo se muestra la independencia del valor numerico y del simbolo de viñeta usado para la generación. Tambien es posible como se muestra, la generación de sublistas, las cuales de forma automatica cambian la viñeta.  \n",
    "\n",
    "### Enlaces e imagenes  \n",
    "\n",
    "Markdown permite generar enlaces mediante indicación explicita de la url de manera inmediata o mediante el uso de un identificador para su reutilización. La primera forma usa la primera agrupación del texto en corchetes y la segunda en parentesis, así `[Markdown](https://daringfireball.net/projects/markdown/)` generando [Markdown](https://daringfireball.net/projects/markdown/). Si se desea usar el identificador para reutilización, la segunda agrupación es en corchetes a indica una etiqueta, la cual más adelante empezando linea se indica la segunda agrupación, seguido de dos puntos y espacio para la url.  \n",
    "\n",
    "De esta forma podemos indicar en [markdown][markdown] un enlace que reutilizará, como se muestra en la [página oficial][markdown].  \n",
    "\n",
    "[markdown]: https://daringfireball.net/projects/markdown/syntax#link \"Enlaces en markdown\"  \n",
    "\n",
    "    De esta forma podemos indicar en [markdown][markdown] un enlace que reutilizará, como se muestra en la [página oficial][markdown].  \n",
    "    \n",
    "    [markdown]: https://daringfireball.net/projects/markdown/syntax#link \"Enlaces en markdown\" \n",
    "\n",
    "En ambos casos despues de la url, se puede indicar entre comillas el atributo de titulo dejando un espacio.  \n",
    "\n",
    "Las imagenes son básicamente enlaces a un archivo de imagen. De esta forma su estructura es igual salvo por la indicación del signo de cierre de admiración antes de la primera agrupación.  \n",
    "\n",
    "![logo Jupyter](jupyter.png \"Logo Jupyter\")\n",
    "\n",
    "La imagen anterior se genero de la siguiente forma:\n",
    "\n",
    "    ![logo Jupyter](jupyter.png \"Logo Jupyter\")\n",
    "\n",
    "O si se desea la imagen almacenada remotamente (la visualización de imagenes depende del soporte del navegador en el notebook, pero depende del controlador adecuado del formato que desee exportar, por ejemplo en el caso de pdf depende de los controladores asociados a los paquetes de LaTeX).  \n",
    "\n",
    "    ![logo Jupyter](http://jupyter.org/assets/main-logo.svg \"Logo Jupyter\")\n",
    "\n",
    "En este caso la primera agrupación corresponde al texto alternativo que se muestra cuando la imagen no se puede visualizar.  \n",
    "\n",
    "Los enlaces a secciones del propio documento requieren del uso de la etiqueta html `href`, y dichas secciones deben estar en celdas separadas y al inicio de la misma.  \n",
    "\n",
    "### Bloque de citación y código  \n",
    "\n",
    "Para la citación de texto, se usa el estilo de correo con lineas iniciando en `>`. Ejemplo:  \n",
    "\n",
    "> Esto es un bloque de citación.\n",
    "\n",
    "y se produce así:  \n",
    "\n",
    "    > Esto es un bloque de citación.\n",
    "    \n",
    "Las ejemplificaciones de código realizadas no solo se han hecho con _backticks_ sino con bloques de código. Estos se logran dejando una linea vacia y luego tabulando cada linea que se quiera en este estilo.  \n",
    "\n",
    "        ### Bloque de citación y código  \n",
    "\n",
    "        Para la citación de texto, se usa el estilo de correo con lineas iniciando en `>`. Ejemplo:  \n",
    "\n",
    "        > Esto es un bloque de citación.\n",
    "        \n",
    "### Caracterres especiales  \n",
    "\n",
    "Finalmente, si se desea producir de forma textual algun caracter o secuencia de caracteres que markdown transforma, debe generarse una cadena de escape con \\\\ antes del caracter especial.  \n",
    "\n",
    "    1\\. Esto no es una lista.  \n",
    "    \\*Esto no es una cursiva\\*\n",
    "    \\![Esto no es una imagen](https://daringfireball.net/projects/markdown/syntax#backslash)\n",
    "\n",
    "1\\. Esto no es una lista.  \n",
    "\\*Esto no es una cursiva\\*  \n",
    "\\![Esto no es una imagen](https://daringfireball.net/projects/markdown/syntax#backslash)  \n",
    "\n",
    "### Extras  \n",
    "\n",
    "Los notebooks dan soporte a dos caracteristicas extras no contenidas en el markdown oficial, que son el soporte de ecuaciones y de tablas. Cualquier otra caracteristica que pueda encontrarse en una página web puede ser soportada incluyendo directamente código html, javascript y css.  \n",
    "\n",
    "#### Ecuaciones  \n",
    "\n",
    "El soporte de las ecuaciones en Jupyter se logra renderizando con [MathJax](https://www.mathjax.org/), lo que permite el uso de código LaTeX para las ecuaciones. Las ecuaciones en linea, como esta $\\int \\vec{F}\\cdot d\\vec{x}$, son generadas usando un solo signo pesos a cada lado de la expresión LaTeX y sin dejar espacio a los signos pesos, así `$\\int \\vec{F}\\cdot d\\vec{x}$`. Para ecuaciones aisladas y centradas, se usa doble signo pesos `$$\\int \\vec{F}\\cdot d\\vec{x}$$`, $$\\int \\vec{F}\\cdot d\\vec{x}.$$  \n",
    "\n",
    "El uso del _backslash_ con parentesis y corchetes no viene habilitado por defecto en mathjax, pero usando los archivos de configuración puede cambiarse este comportamiento. Aún asi, para uso en notebooks es recomendado el \\$ tanto en markdown como en el _magic_ de LaTeX (si se desea exportar a pdf tambien será más comodo).  \n",
    "\n",
    "#### Tablas  \n",
    "\n",
    "| Columna 1 | Columna 2 | Columna 3 |\n",
    "|---|---:|:---:|\n",
    "|Izquierda|Derecha|Centro|\n",
    "\n",
    "    | Columna 1 | Columna 2 | Columna 3 |\n",
    "    |---|---:|:---:|\n",
    "    |Izquierda|Derecha|Centro|"
   ]
  },
  {
   "cell_type": "markdown",
   "metadata": {},
   "source": [
    "## Código  \n",
    "\n",
    "Jupyter Notebook soporta celdas de código con coloreado de sintaxis y ejecución de algunos lenguajes, mediante [_magics_](https://ipython.org/ipython-doc/3/interactive/magics.html) o soporte directo del [kernel](https://github.com/ipython/ipython/wiki/IPython-kernels-for-other-languages) del lenguaje.  \n",
    "\n",
    "Para usar este tipo de celdas, usamos desde el menu `code` (por defecto es el tipo de celda al inicio) en lugar de `markdown`. Tambien se habilita con `Esc+y`.  \n",
    "\n",
    "### Python  \n",
    "\n",
    "Al inicializar nuestro notebook con el kernel de python, directamente las celdas de código pueden ejecutar código python sin ninguna adición extra.  "
   ]
  },
  {
   "cell_type": "code",
   "execution_count": 12,
   "metadata": {},
   "outputs": [],
   "source": [
    "from __future__ import print_function, division # Compatibilidad entre python 2 y 3\n",
    "def imprime_division(a, b):\n",
    "    print(a/b)"
   ]
  },
  {
   "cell_type": "markdown",
   "metadata": {},
   "source": [
    "El bloque anterior se ejecuta en python y mantiene una conexión a una instancia de interprete interactivo de python, de manera que podemos usar celdas de markdown y otras celdas de código, y luego hacer uso de las definiciones de estas celdas. Como a continuación:"
   ]
  },
  {
   "cell_type": "code",
   "execution_count": 13,
   "metadata": {},
   "outputs": [
    {
     "name": "stdout",
     "output_type": "stream",
     "text": [
      "0.8\n"
     ]
    }
   ],
   "source": [
    "imprime_division(4, 5)"
   ]
  },
  {
   "cell_type": "markdown",
   "metadata": {},
   "source": [
    "### Magics  \n",
    "\n",
    "Existen una gran cantidad de _magics_ disponibles. Particularmente nos interesarán dos casos, **bash** y **LaTeX**.  \n",
    "La ejecución de celdas LaTeX es solo para los ambientes matematicos (con soporte por MathJax) y no un soporte completo de una distribución LaTeX.  "
   ]
  },
  {
   "cell_type": "code",
   "execution_count": 4,
   "metadata": {},
   "outputs": [
    {
     "data": {
      "text/latex": [
       "$\\left(\\frac{1}{\\Gamma}\\right)^{2}$"
      ],
      "text/plain": [
       "<IPython.core.display.Latex object>"
      ]
     },
     "metadata": {},
     "output_type": "display_data"
    }
   ],
   "source": [
    "%%latex\n",
    "$\\left(\\frac{1}{\\Gamma}\\right)^{2}$"
   ]
  },
  {
   "cell_type": "markdown",
   "metadata": {},
   "source": [
    "Para la ejecución de bash se puede anteceder un signo \\! antes del comando a usar (de una sola linea) o usar el _magic_ correspondiente para múltiples lineas. Esto solo es posible en sistemas _UNIX_.  "
   ]
  },
  {
   "cell_type": "code",
   "execution_count": 21,
   "metadata": {},
   "outputs": [
    {
     "name": "stdout",
     "output_type": "stream",
     "text": [
      "total 204\r\n",
      "drwxrwxr-x 3 cosmoscalibur cosmoscalibur   4096 ago  7 18:02 .\r\n",
      "drwxrwxr-x 5 cosmoscalibur cosmoscalibur   4096 ago  2 21:18 ..\r\n",
      "drwxr-xr-x 2 cosmoscalibur cosmoscalibur   4096 ago  7 11:45 .ipynb_checkpoints\r\n",
      "-rw-rw-r-- 1 cosmoscalibur cosmoscalibur  14736 ago  7 18:02 Jupyter_Notebook_Basico.ipynb\r\n",
      "-rw-rw-r-- 1 cosmoscalibur cosmoscalibur  11375 ago  2 21:24 presentacion_herramientas.md\r\n",
      "-rw-rw-r-- 1 cosmoscalibur cosmoscalibur 139557 ago  2 21:24 presentacion_herramientas.pdf\r\n"
     ]
    }
   ],
   "source": [
    "!ls -al"
   ]
  },
  {
   "cell_type": "code",
   "execution_count": 23,
   "metadata": {},
   "outputs": [
    {
     "name": "stdout",
     "output_type": "stream",
     "text": [
      "archivoprueba.txt\n",
      "Ya se verifico creación, ahora se eliminará.\n"
     ]
    },
    {
     "name": "stderr",
     "output_type": "stream",
     "text": [
      "ls: cannot access 'archivoprueba.txt': No such file or directory\n"
     ]
    }
   ],
   "source": [
    "%%bash\n",
    "touch archivoprueba.txt\n",
    "ls *.txt\n",
    "echo \"Ya se verifico creación, ahora se eliminará.\"\n",
    "rm archivoprueba.txt\n",
    "ls archivoprueba.txt"
   ]
  },
  {
   "cell_type": "markdown",
   "metadata": {},
   "source": [
    "En caso de usar los comandos bash con \\! es posible asociar sus salidas a una variable python, y obtener una integración natural entre python y bash.  "
   ]
  },
  {
   "cell_type": "code",
   "execution_count": 24,
   "metadata": {},
   "outputs": [
    {
     "name": "stdout",
     "output_type": "stream",
     "text": [
      "['Jupyter_Notebook_Basico.ipynb', 'presentacion_herramientas.md', 'presentacion_herramientas.pdf']\n"
     ]
    }
   ],
   "source": [
    "listaarchivos = !ls\n",
    "print(listaarchivos)"
   ]
  },
  {
   "cell_type": "markdown",
   "metadata": {},
   "source": [
    "Otros _magics_ disponibles son:"
   ]
  },
  {
   "cell_type": "code",
   "execution_count": 25,
   "metadata": {},
   "outputs": [
    {
     "data": {
      "application/json": {
       "cell": {
        "!": "OSMagics",
        "HTML": "Other",
        "SVG": "Other",
        "bash": "Other",
        "capture": "ExecutionMagics",
        "debug": "ExecutionMagics",
        "file": "Other",
        "html": "DisplayMagics",
        "javascript": "DisplayMagics",
        "js": "DisplayMagics",
        "latex": "DisplayMagics",
        "perl": "Other",
        "prun": "ExecutionMagics",
        "pypy": "Other",
        "python": "Other",
        "python2": "Other",
        "python3": "Other",
        "ruby": "Other",
        "script": "ScriptMagics",
        "sh": "Other",
        "svg": "DisplayMagics",
        "sx": "OSMagics",
        "system": "OSMagics",
        "time": "ExecutionMagics",
        "timeit": "ExecutionMagics",
        "writefile": "OSMagics"
       },
       "line": {
        "alias": "OSMagics",
        "alias_magic": "BasicMagics",
        "autocall": "AutoMagics",
        "automagic": "AutoMagics",
        "autosave": "KernelMagics",
        "bookmark": "OSMagics",
        "cat": "Other",
        "cd": "OSMagics",
        "clear": "KernelMagics",
        "colors": "BasicMagics",
        "config": "ConfigMagics",
        "connect_info": "KernelMagics",
        "cp": "Other",
        "debug": "ExecutionMagics",
        "dhist": "OSMagics",
        "dirs": "OSMagics",
        "doctest_mode": "BasicMagics",
        "ed": "Other",
        "edit": "KernelMagics",
        "env": "OSMagics",
        "gui": "BasicMagics",
        "hist": "Other",
        "history": "HistoryMagics",
        "killbgscripts": "ScriptMagics",
        "ldir": "Other",
        "less": "KernelMagics",
        "lf": "Other",
        "lk": "Other",
        "ll": "Other",
        "load": "CodeMagics",
        "load_ext": "ExtensionMagics",
        "loadpy": "CodeMagics",
        "logoff": "LoggingMagics",
        "logon": "LoggingMagics",
        "logstart": "LoggingMagics",
        "logstate": "LoggingMagics",
        "logstop": "LoggingMagics",
        "ls": "Other",
        "lsmagic": "BasicMagics",
        "lx": "Other",
        "macro": "ExecutionMagics",
        "magic": "BasicMagics",
        "man": "KernelMagics",
        "matplotlib": "PylabMagics",
        "mkdir": "Other",
        "more": "KernelMagics",
        "mv": "Other",
        "notebook": "BasicMagics",
        "page": "BasicMagics",
        "pastebin": "CodeMagics",
        "pdb": "ExecutionMagics",
        "pdef": "NamespaceMagics",
        "pdoc": "NamespaceMagics",
        "pfile": "NamespaceMagics",
        "pinfo": "NamespaceMagics",
        "pinfo2": "NamespaceMagics",
        "popd": "OSMagics",
        "pprint": "BasicMagics",
        "precision": "BasicMagics",
        "profile": "BasicMagics",
        "prun": "ExecutionMagics",
        "psearch": "NamespaceMagics",
        "psource": "NamespaceMagics",
        "pushd": "OSMagics",
        "pwd": "OSMagics",
        "pycat": "OSMagics",
        "pylab": "PylabMagics",
        "qtconsole": "KernelMagics",
        "quickref": "BasicMagics",
        "recall": "HistoryMagics",
        "rehashx": "OSMagics",
        "reload_ext": "ExtensionMagics",
        "rep": "Other",
        "rerun": "HistoryMagics",
        "reset": "NamespaceMagics",
        "reset_selective": "NamespaceMagics",
        "rm": "Other",
        "rmdir": "Other",
        "run": "ExecutionMagics",
        "save": "CodeMagics",
        "sc": "OSMagics",
        "set_env": "OSMagics",
        "store": "StoreMagics",
        "sx": "OSMagics",
        "system": "OSMagics",
        "tb": "ExecutionMagics",
        "time": "ExecutionMagics",
        "timeit": "ExecutionMagics",
        "unalias": "OSMagics",
        "unload_ext": "ExtensionMagics",
        "who": "NamespaceMagics",
        "who_ls": "NamespaceMagics",
        "whos": "NamespaceMagics",
        "xdel": "NamespaceMagics",
        "xmode": "BasicMagics"
       }
      },
      "text/plain": [
       "Available line magics:\n",
       "%alias  %alias_magic  %autocall  %automagic  %autosave  %bookmark  %cat  %cd  %clear  %colors  %config  %connect_info  %cp  %debug  %dhist  %dirs  %doctest_mode  %ed  %edit  %env  %gui  %hist  %history  %killbgscripts  %ldir  %less  %lf  %lk  %ll  %load  %load_ext  %loadpy  %logoff  %logon  %logstart  %logstate  %logstop  %ls  %lsmagic  %lx  %macro  %magic  %man  %matplotlib  %mkdir  %more  %mv  %notebook  %page  %pastebin  %pdb  %pdef  %pdoc  %pfile  %pinfo  %pinfo2  %popd  %pprint  %precision  %profile  %prun  %psearch  %psource  %pushd  %pwd  %pycat  %pylab  %qtconsole  %quickref  %recall  %rehashx  %reload_ext  %rep  %rerun  %reset  %reset_selective  %rm  %rmdir  %run  %save  %sc  %set_env  %store  %sx  %system  %tb  %time  %timeit  %unalias  %unload_ext  %who  %who_ls  %whos  %xdel  %xmode\n",
       "\n",
       "Available cell magics:\n",
       "%%!  %%HTML  %%SVG  %%bash  %%capture  %%debug  %%file  %%html  %%javascript  %%js  %%latex  %%perl  %%prun  %%pypy  %%python  %%python2  %%python3  %%ruby  %%script  %%sh  %%svg  %%sx  %%system  %%time  %%timeit  %%writefile\n",
       "\n",
       "Automagic is ON, % prefix IS NOT needed for line magics."
      ]
     },
     "execution_count": 25,
     "metadata": {},
     "output_type": "execute_result"
    }
   ],
   "source": [
    "%lsmagic"
   ]
  },
  {
   "cell_type": "markdown",
   "metadata": {},
   "source": [
    "# Referencias  \n",
    "\n",
    "1. [Jupyter Notebook: Examples Index](http://jupyter-notebook.readthedocs.io/en/latest/examples/Notebook/examples_index.html).  \n",
    "1. [Jupyter Site](https://jupyter.org/).  \n",
    "1. [Creating a table of contents with internal links in IPython Notebooks and Markdown documents](http://sebastianraschka.com/Articles/2014_ipython_internal_links.html).  \n",
    "1. [Markdown](https://daringfireball.net/projects/markdown/).  \n",
    "1. [Mastering Markdown](https://guides.github.com/features/mastering-markdown/).  "
   ]
  }
 ],
 "metadata": {
  "kernelspec": {
   "display_name": "Python 3",
   "language": "python",
   "name": "python3"
  },
  "language_info": {
   "codemirror_mode": {
    "name": "ipython",
    "version": 3
   },
   "file_extension": ".py",
   "mimetype": "text/x-python",
   "name": "python",
   "nbconvert_exporter": "python",
   "pygments_lexer": "ipython3",
   "version": "3.6.3"
  }
 },
 "nbformat": 4,
 "nbformat_minor": 1
}

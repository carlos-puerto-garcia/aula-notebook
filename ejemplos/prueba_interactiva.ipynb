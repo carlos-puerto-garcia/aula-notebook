{
 "cells": [
  {
   "cell_type": "code",
   "execution_count": 1,
   "metadata": {
    "collapsed": true
   },
   "outputs": [],
   "source": [
    "from ipywidgets import Text, Button, VBox, HBox\n",
    "from IPython.display import display\n",
    "from subprocess import run\n",
    "from shlex import split"
   ]
  },
  {
   "cell_type": "code",
   "execution_count": 6,
   "metadata": {},
   "outputs": [
    {
     "data": {
      "application/vnd.jupyter.widget-view+json": {
       "model_id": "18aa6dc71ea54a90b1cedfffab6b0e4f",
       "version_major": 2,
       "version_minor": 0
      },
      "text/plain": [
       "A Jupyter Widget"
      ]
     },
     "metadata": {},
     "output_type": "display_data"
    }
   ],
   "source": [
    "estilo_texto = {'description_width': 'initial'}\n",
    "escribir = Text(description=\"Escribe la palabra dictada\", style={'description_width': 'initial'})\n",
    "someter = Button(description=\"Verifica\")\n",
    "iniciar = Button(description=\"Iniciar\")\n",
    "siguiente = Button(description=\"Siguiente\")\n",
    "repetir = Button(description=\"Repetir\")\n",
    "botones = HBox(children=[iniciar, repetir, someter, siguiente])\n",
    "\n",
    "palabra = 0\n",
    "palabras = ['carrusel', 'vampiro', 'caracoles']\n",
    "total = len(palabras)\n",
    "\n",
    "def reproducir(texto):\n",
    "    args = split('pico2wave --wave=ejemplo.wav -l es-ES \"{}\"'.format(texto))\n",
    "    run(args)\n",
    "    args = split('aplay ejemplo.wav')\n",
    "    run(args)\n",
    "\n",
    "def clic_iniciar(boton):\n",
    "    global palabra, palabras\n",
    "    palabra = 0\n",
    "    escribir.value = \"\"\n",
    "    reproducir(palabras[palabra])\n",
    "\n",
    "def clic_repetir(boton):\n",
    "    global palabras, palabra\n",
    "    reproducir(palabras[palabra])\n",
    "\n",
    "def clic_someter(boton):\n",
    "    global palabra, palabras\n",
    "    if escribir.value == palabras[palabra]:\n",
    "        reproducir(\"Muy bien, felicitaciones.\")\n",
    "    else:\n",
    "        reproducir(\"Intenta de nuevo.\")\n",
    "\n",
    "def clic_siguiente(boton):\n",
    "    global palabra, total, palabras\n",
    "    palabra = palabra + 1\n",
    "    escribir.value = \"\"\n",
    "    if palabra == total:\n",
    "        reproducir(\"Has concluido.\")\n",
    "    else:\n",
    "        reproducir(palabras[palabra])\n",
    "        \n",
    "    \n",
    "iniciar.on_click(clic_iniciar)\n",
    "repetir.on_click(clic_repetir)\n",
    "someter.on_click(clic_someter)\n",
    "siguiente.on_click(clic_siguiente)\n",
    "\n",
    "gui = VBox(children=[escribir, botones])\n",
    "display(gui)"
   ]
  },
  {
   "cell_type": "code",
   "execution_count": null,
   "metadata": {},
   "outputs": [],
   "source": [
    "\n"
   ]
  }
 ],
 "metadata": {
  "kernelspec": {
   "display_name": "Python 3",
   "language": "python",
   "name": "python3"
  },
  "language_info": {
   "codemirror_mode": {
    "name": "ipython",
    "version": 3
   },
   "file_extension": ".py",
   "mimetype": "text/x-python",
   "name": "python",
   "nbconvert_exporter": "python",
   "pygments_lexer": "ipython3",
   "version": "3.6.3"
  }
 },
 "nbformat": 4,
 "nbformat_minor": 2
}

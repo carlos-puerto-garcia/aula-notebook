{
 "cells": [
  {
   "cell_type": "markdown",
   "metadata": {},
   "source": [
    "# Visualización e interacción  \n",
    "\n",
    "La visualización e interacción es un requerimiento actual para las nuevas metodologías de enseñanza, donde se busca un aprendizaje mucho más visual y que permita, a través de la experimentación, el entendimiento de un fenómeno cuando se cambian ciertas condiciones iniciales.  \n",
    "\n",
    "La ubicación espacial y la manipulación de parámetros en dicha experimentación se puede facilitar con herramientas como estas, que integran el uso de gráficos, animaciones y _widgets_.  Este notebook, define los métodos de visualización e interacción que se usarán en otros _notebooks_, sobre la componente numérica y conceptual.  \n",
    "\n",
    "Esta separación se hace con el fin de distinguir claramente 3 componentes del proceso, y que faciliten la comprensión de la temática sin requerir que el usuario comprenda los 3 niveles (ya que el código es visible, y esto impactaría en el proceso de seguimiento del tema).  "
   ]
  },
  {
   "cell_type": "markdown",
   "metadata": {},
   "source": [
    "## Funciones Matemáticas  \n",
    "\n",
    "Aunque no es parte de la visualización y de la interacción, el manejo de funciones matemáticas es requerido para estas etapas y las posteriores. Por lo que su definición es necesaria desde el principio para no ser redundante en requerir de múltiples invocaciones.  \n",
    "\n",
    "La evaluación de funciones matemáticas puede realizarse por medio del modulo `math` que hace parte de la biblioteca estandar de Python, o con la biblioteca `numpy`. Para el conjunto limitado de funciones matemáticas que requerimos y con la premisa de no realizar de formas complejas nuestros códigos, las utilidades de `numpy` no serán necesarias y con `math` y el uso de listas será suficiente.  \n",
    "\n",
    "El motivo de tener pocos requerimientos de funciones matemáticas es por el uso de métodos numéricos y no de herramientas análiticas. La idea es mostrar como con esta metodología es posible analizar un conjunto mayor de problemas sin tener que profundizar en una gran cantidad de herramientas matemáticas y así no limitar la discusión de estos temas a conocimientos avanzados de matemáticas, y más bien depender de un conocimiento básico tanto de matemáticas como de programación para el desarrollo de los problemas, y permitir simplemente la interacción en caso de solo usar estos notebooks como un recurso para el estudio conceptual. Por este último fin, se busca que el notebook conceptual posea el mínimo de código, y este se lleve sobre los notebooks de técnicas numéricas y de visualización.  "
   ]
  },
  {
   "cell_type": "code",
   "execution_count": 1,
   "metadata": {
    "collapsed": true
   },
   "outputs": [],
   "source": [
    "from math import sin, cos, tan, sqrt, log, exp, pi"
   ]
  },
  {
   "cell_type": "markdown",
   "metadata": {},
   "source": [
    "El conjunto anterior de funciones sólo se indica por mantener una referencia de funciones para cualquier ampliación que se desee realizar sobre este, y para su uso en la creación de potenciales arbitrarios, así como en los casos de ejemplificación con funciones análiticas o para fines de comparación de resultados.    \n",
    "\n",
    "Para la implementación (partiendo de un potencial dado numéricamente), sólo se requiere del uso de `sqrt`.  \n",
    "\n",
    "El modulo de `numpy` permitiría extender la aplicación de funciones matemáticas directamente sobre arreglos numéricos, y definir estos arreglos de una forma natural para la matemática, como equivalente a los vectores y matrices a traves de la clase `array`. "
   ]
  },
  {
   "cell_type": "markdown",
   "metadata": {},
   "source": [
    "## Interacción "
   ]
  },
  {
   "cell_type": "markdown",
   "metadata": {},
   "source": [
    "Existen multiples mecanismos para interacción con los recursos digitales, definidos de forma casi estándar en su comportamiento a través de distintas plataformas.  \n",
    "\n",
    "Dentro de la definición de los controles gráficos (_widgets_) incorporados en __Jupyter__ en el módulo `ipywidgets`, encontramos los siguientes:  "
   ]
  },
  {
   "cell_type": "code",
   "execution_count": 2,
   "metadata": {},
   "outputs": [
    {
     "name": "stdout",
     "output_type": "stream",
     "text": [
      "['Accordion', 'BoundedFloatText', 'BoundedIntText', 'Box', 'Button', 'ButtonStyle', 'CallbackDispatcher', 'Checkbox', 'Color', 'ColorPicker', 'Controller', 'CoreWidget', 'DOMWidget', 'DatePicker', 'Datetime', 'Dropdown', 'FloatProgress', 'FloatRangeSlider', 'FloatSlider', 'FloatText', 'HBox', 'HTML', 'HTMLMath', 'Image', 'IntProgress', 'IntRangeSlider', 'IntSlider', 'IntText', 'Label', 'Layout', 'NumberFormat', 'Output', 'Password', 'Play', 'RadioButtons', 'Select', 'SelectMultiple', 'SelectionRangeSlider', 'SelectionSlider', 'SliderStyle', 'Style', 'Tab', 'Text', 'Textarea', 'ToggleButton', 'ToggleButtons', 'ToggleButtonsStyle', 'VBox', 'Valid', 'ValueWidget', 'Widget', '__builtins__', '__cached__', '__doc__', '__file__', '__jupyter_widgets_base_version__', '__jupyter_widgets_controls_version__', '__loader__', '__name__', '__package__', '__path__', '__protocol_version__', '__spec__', '__version__', '_handle_ipython', '_version', 'domwidget', 'fixed', 'get_ipython', 'handle_kernel', 'interact', 'interact_manual', 'interaction', 'interactive', 'interactive_output', 'jsdlink', 'jslink', 'load_ipython_extension', 'os', 'register', 'register_comm_target', 'trait_types', 'valuewidget', 'version_info', 'widget', 'widget_bool', 'widget_box', 'widget_button', 'widget_color', 'widget_controller', 'widget_core', 'widget_date', 'widget_description', 'widget_float', 'widget_image', 'widget_int', 'widget_layout', 'widget_link', 'widget_output', 'widget_selection', 'widget_selectioncontainer', 'widget_serialization', 'widget_string', 'widget_style', 'widgets']\n"
     ]
    }
   ],
   "source": [
    "import ipywidgets\n",
    "print(dir(ipywidgets))"
   ]
  },
  {
   "cell_type": "markdown",
   "metadata": {},
   "source": [
    "Para nuestro uso, serán de uso principal:\n",
    "\n",
    "* Interacciones: Son mecanismos automáticos para crear controles y asociarlos a una función. `interact`, `interactive`.  \n",
    "* Deslizadores: Los hay específicos para tipos de datos, y estos son `IntSlider` y `FloatSlider`.  \n",
    "* Botones: Elementos que permiten ejecutar una acción al presionarlos, `Button`.  \n",
    "* Texto: Permiten el ingreso de texto arbitrario y asociar la ejecución de una acción a su ingreso. `Text`.  \n",
    "* Contenedores: Permiten agrupar en un solo objeto/vista varios controles. Uno de ellos es `Box`.  "
   ]
  },
  {
   "cell_type": "code",
   "execution_count": 3,
   "metadata": {},
   "outputs": [],
   "source": [
    "from ipywidgets import interact, interactive, fixed, IntSlider, FloatSlider, Button, Text, Box"
   ]
  },
  {
   "cell_type": "markdown",
   "metadata": {},
   "source": [
    "Entre estos controles que se usan, a veces es necesario crear dependencias de sus rangos respecto al rango o propiedad de otro control. Para este fin usamos la función `link` del módulo `traitlets`. En este módulo se encuentran otras funciones utiles para manipulación de los controles gráficos."
   ]
  },
  {
   "cell_type": "code",
   "execution_count": 4,
   "metadata": {},
   "outputs": [],
   "source": [
    "from traitlets import link"
   ]
  },
  {
   "cell_type": "markdown",
   "metadata": {},
   "source": [
    "Tambien es necesario el uso de elementos que permitan el formato del documento y visualización de elementos y texto enriquecido, fuera de lo posible con texto plano a punta de `print` o con las capacidades de [_MarkDown_](https://daringfireball.net/projects/markdown/) ([Nativo](http://jupyter-notebook.readthedocs.org/en/latest/examples/Notebook/rstversions/Working%20With%20Markdown%20Cells.html) o con [extensión](https://github.com/ipython-contrib/IPython-notebook-extensions/wiki/python-markdown)). Para esto se puede extender el uso métodos para renderizado HTML y LaTeX.  "
   ]
  },
  {
   "cell_type": "code",
   "execution_count": 5,
   "metadata": {
    "collapsed": true
   },
   "outputs": [],
   "source": [
    "from IPython.display import clear_output, display, HTML, Latex, Markdown, Math"
   ]
  },
  {
   "cell_type": "markdown",
   "metadata": {},
   "source": [
    "## Visualización  \n",
    "\n",
    "Por visualización entendemos las estrategias de representación gráfica de la información, resultados o modelos. Facilita la lectura rápida de datos mediante codificaciones de colores así como la ubicación espacial de los mismos. La representación gráfica no tiene por qué ser estática, y es ahí donde las animaciones nos permiten representar las variaciones temporales de un sistema de una forma más natural (no como un gráfico respecto a un eje de tiempo, sino vivenciando un gráfico evolucionando en el tiempo).  \n",
    "\n",
    "Para este fin es posible usar diversas bibliotecas existentes en python (en sus versiones 2 y 3), siendo la más común de ellas y robusta, la biblioteca [Matplotlib](http://matplotlib.org/). En el contexto moderno de los navegadores web, es posible integrar de una forma más natural bibliotecas que realizan el almacenamiento de los gráficos en formatos nativos para la web, como lo es el formato de intercambio de datos [JSON](http://www.json.org/), facilitando su interacción en el navegador mediante llamados a [javascript](https://en.wikipedia.org/wiki/JavaScript).  \n",
    "\n",
    "Así, podemos establecer preferencias, como Matplotlib para uso estático principalmente o para uso local, mientras que para interacción web, usar bibliotecas como [Bokeh](http://bokeh.pydata.org/en/latest/).  \n",
    "\n",
    "Para este caso, sin profundidad en la interacción web, se usará Matplotlib."
   ]
  },
  {
   "cell_type": "code",
   "execution_count": 6,
   "metadata": {
    "collapsed": true
   },
   "outputs": [],
   "source": [
    "%matplotlib inline\n",
    "import matplotlib.pyplot as plt"
   ]
  },
  {
   "cell_type": "markdown",
   "metadata": {},
   "source": [
    "Para indicar la graficación no interactiva embebida en el documento usamos la sguiente linea\n",
    "\n",
    "```\n",
    "%matplotlib inline\n",
    "```\n",
    "\n",
    "En caso de requerir una forma interactiva embebida, se usa la linea\n",
    "\n",
    "```\n",
    "%matplotlib notebook\n",
    "```"
   ]
  },
  {
   "cell_type": "markdown",
   "metadata": {},
   "source": [
    "Para nuestro uso básico, todo lo necesario para gráficación se encuentra en el módulo `pyplot` de Matplotlib. Con él podemos realizar cuadrículas, trazos de curvas de diversos estilos, modificación de ejes, leyendas, adición de anotaciones en el gráfico y llenado de formas (coloreado entre curvas). Pueden consultarse ejemplos de referencia en la [galería](http://matplotlib.org/gallery.html) de Matplotlib y en la lista de [ejemplos](http://matplotlib.org/examples/index.html) de la página oficial."
   ]
  },
  {
   "cell_type": "markdown",
   "metadata": {},
   "source": [
    "### Graficación de funciones  \n",
    "\n",
    "En general nuestro ideal es poder graficar funciones que son representadas por arreglos numéricos. Las funciones continuas en su representación algebraica de discretizan, y es el conjunto de puntos interpolado lo que se ilustra. Antes de discretizar, es conveniente convertir nuestra función en una función evaluable, y asociar la dependencia solo a una variable (para nuestro caso que es 1D).\n",
    "\n",
    "El proceso de interpolación mencionado se realiza por el paquete de graficación y nosotros solo debemos indicar los puntos que pertenecen a la función.  "
   ]
  },
  {
   "cell_type": "code",
   "execution_count": 7,
   "metadata": {
    "collapsed": true
   },
   "outputs": [],
   "source": [
    "def discretizar(funcion, a, b, n):\n",
    "    dx = (b-a)/n\n",
    "    x = [a + i*dx for i in range(n+1)]\n",
    "    y = [funcion(i) for i in x]\n",
    "    return x, y\n",
    "\n",
    "def graficar_funcion(x, f):\n",
    "    plt.plot(x, f, '-')\n",
    "    \n",
    "def graficar_punto_texto(x, f, texto):\n",
    "    plt.plot(x, f, 'o')\n",
    "    plt.text(x+.2, f+.2, texto)"
   ]
  },
  {
   "cell_type": "code",
   "execution_count": 8,
   "metadata": {},
   "outputs": [
    {
     "data": {
      "application/vnd.jupyter.widget-view+json": {
       "model_id": "58b02d815467440e851e5c3ad80dac53",
       "version_major": 2,
       "version_minor": 0
      },
      "text/plain": [
       "A Jupyter Widget"
      ]
     },
     "metadata": {},
     "output_type": "display_data"
    },
    {
     "data": {
      "text/plain": [
       "<function __main__.int_raiz_sin>"
      ]
     },
     "execution_count": 8,
     "metadata": {},
     "output_type": "execute_result"
    }
   ],
   "source": [
    "def int_raiz_sin(a:(-5.,0., .2), b:(0., 5., .2), k:(0.2, 10., .1), n:(1, 100, 1), N:(0, 10, 1)):\n",
    "    f = lambda x: sin(k*x)\n",
    "    x, y = discretizar(f, a, b, n)\n",
    "    r = pi*(N + int(a*k/pi))/k\n",
    "    graficar_funcion(x, y)\n",
    "    graficar_punto_texto(r, 0, 'Raíz')\n",
    "    plt.show()\n",
    "    \n",
    "interact(int_raiz_sin)"
   ]
  },
  {
   "cell_type": "markdown",
   "metadata": {},
   "source": [
    "El bloque anterior de código ilustra el uso de `interact` como mecanismo para crear controles automaticos que se apliquen a la ejecución de una función. Este permite crear de una forma simple las interacciones cuando no se requiere de personalizar mucho, ni vincular controles y se desea una ejecución automatica con cada variación de parametros. En caso de querer recuperar los valores especificos de los parametros para posterior manipulación se recomienda el uso de `interactive` o del uso explicito de los controles.  \n",
    "\n",
    "A pesar de la facilidad que ofrece `interact` e `interactive` al generar los controles automaticos, esto es poco conveniente cuando se trata de ejecuciones que toman tiempos significativos (que para escalas de una interacción favorable, un tiempo significativo son aquellos mayores a un segundo), ya que cada variación de parametros independiente, o sea, cada deslizador en este caso, al cambiar produce una nueva ejecución, y las nuevas variaciones de parámetros quedan en espera hasta terminar las ejecuciones de las variaciones individuales anteriores.  \n",
    "\n",
    "Es por esto, que puede ser conveniente definir una interacción donde los controles la unica acción que posean es la variación y almacenamiento de valores de los parametros, y sea otro control adicional el designado para indicar el momento de actualizar parametros y ejecutar.  \n",
    "\n",
    "El ejemplo anterior se puede construir usando `FloatSlider`, `IntSlider`, `Button`, `Text`, `Box` y `display`.  "
   ]
  },
  {
   "cell_type": "code",
   "execution_count": 9,
   "metadata": {
    "scrolled": false
   },
   "outputs": [
    {
     "data": {
      "image/png": "[encoded data removed]",
      "text/plain": [
       "<matplotlib.figure.Figure at 0x7fd83584a390>"
      ]
     },
     "metadata": {},
     "output_type": "display_data"
    }
   ],
   "source": [
    "def raiz_sin(a, b, k, n, N, texto):\n",
    "    f = lambda x: sin(k*x)\n",
    "    x, y = discretizar(f, a, b, n)\n",
    "    r = pi*(N + int(a*k/pi))/k\n",
    "    graficar_funcion(x, y)\n",
    "    graficar_punto_texto(r, 0, texto)\n",
    "\n",
    "a = FloatSlider(value= -2.5, min=-5., max= 0., step= .2, description='a')\n",
    "b= FloatSlider(value = 2.5, min=0., max= 5., step=.2, description='b')\n",
    "k= FloatSlider(value = 5., min=0.2, max=10., step=.1, description='k')\n",
    "n= IntSlider(value= 50, min=1, max= 100, step=1, description='n')\n",
    "N= IntSlider(value=5, min=0, max=10, step=1, description='N')\n",
    "texto = Text(value='Raíz', description='Texto punto')\n",
    "Boton_graficar = Button(description='Graficar')\n",
    "\n",
    "def click_graficar(boton):\n",
    "    clear_output(wait=True)\n",
    "    raiz_sin(a.value, b.value, k.value, n.value, N.value, texto.value)\n",
    "    plt.show()\n",
    "\n",
    "display(a, b, k, n, N, texto, Boton_graficar)\n",
    "Boton_graficar.on_click(click_graficar)"
   ]
  },
  {
   "cell_type": "markdown",
   "metadata": {},
   "source": [
    "### Graficación de potenciales  \n",
    "\n",
    "Para fines de ilustración y comprensión de los estados ligados del sistema, conviene poder ilustrar las funciones de potencial como barreras físicas. Esta noción gráfica se representa mediante el llenado entre la curva y el eje de referencia para la energía. De esta forma, al unir el gráfico con la referencia del autovalor, será claro que la energía hallada pertenece al intervalo requerido en teoría y que corresponde a un sistema ligado.  \n",
    "\n",
    "La función de graficación del potencial recibe dos listas/arreglos, uno con la información espacial y otro con la evaluación del potencial en dichos puntos. Antes de proceder con el llenado de la representación de la barrera del potencial, se crean los puntos inicial y final con el fin de crear formas cerradas distinguibles para el comando `fill`."
   ]
  },
  {
   "cell_type": "code",
   "execution_count": 10,
   "metadata": {
    "collapsed": true
   },
   "outputs": [],
   "source": [
    "def graficar_potencial(x, V_x):\n",
    "    V_min = min(V_x)\n",
    "    plt.fill_between(x, V_min, V_x, facecolor = 'peru')"
   ]
  },
  {
   "cell_type": "markdown",
   "metadata": {},
   "source": [
    "A continuación se presenta un ejemplo interactivo de graficación del potencial finito. Se inicia con la definición del potencial, la cual se usa para generar un arreglo con la información de la evaluación del potencial en distintos puntos del espacio."
   ]
  },
  {
   "cell_type": "code",
   "execution_count": 11,
   "metadata": {},
   "outputs": [
    {
     "data": {
      "application/vnd.jupyter.widget-view+json": {
       "model_id": "ede04e561efe40f5bee74d1f6eebd344",
       "version_major": 2,
       "version_minor": 0
      },
      "text/plain": [
       "A Jupyter Widget"
      ]
     },
     "metadata": {},
     "output_type": "display_data"
    },
    {
     "data": {
      "text/plain": [
       "<function __main__.int_potencial>"
      ]
     },
     "execution_count": 11,
     "metadata": {},
     "output_type": "execute_result"
    }
   ],
   "source": [
    "def potencial(V_0, a, x):\n",
    "    if abs(x) > a/2:\n",
    "        return V_0\n",
    "    else:\n",
    "        return 0\n",
    "\n",
    "def int_potencial(V_0:(.1, 10., .1), a:(.1, 5, .1), L:(1., 10., .5), N:(10, 200, 10)):\n",
    "    dx = L / N\n",
    "    x = [-L/2 + i*dx for i in range(N+1)]\n",
    "    y = [potencial(V_0, a, i) for i in x]\n",
    "    graficar_potencial(x, y)\n",
    "    plt.show()\n",
    "\n",
    "interact(int_potencial)"
   ]
  },
  {
   "cell_type": "markdown",
   "metadata": {},
   "source": [
    "### Nivel de energía  \n",
    "\n",
    "Para ilustrar adecuadamente la presencia de estados ligados conviene superponer sobre la representación de la función de potencial, la referencia de energía del autovalor del sistema. Para distinguirlo, éste será un trazo discontinuo (no relleno para evitar confusión con el potencial, pero tampoco continuo para distinguirlo de la representación de las funciones de onda).  \n",
    "\n",
    "\\begin{eqnarray}\n",
    "E \\leq V_\\text{máx},& \\qquad \\text{Estado ligado}\\\\\n",
    "E > V_\\text{máx},& \\qquad \\text{Estado no ligado}\n",
    "\\end{eqnarray}\n",
    "\n",
    "Los estados no ligados son equivalentes a tener particulas libres.  "
   ]
  },
  {
   "cell_type": "code",
   "execution_count": 12,
   "metadata": {
    "collapsed": true
   },
   "outputs": [],
   "source": [
    "def graficar_autovalor(L, E):\n",
    "    plt.plot([-L/2, L/2], [E, E], '--')"
   ]
  },
  {
   "cell_type": "code",
   "execution_count": 13,
   "metadata": {},
   "outputs": [
    {
     "data": {
      "application/vnd.jupyter.widget-view+json": {
       "model_id": "52795de470cc40b293dfb6b33a0b406a",
       "version_major": 2,
       "version_minor": 0
      },
      "text/plain": [
       "A Jupyter Widget"
      ]
     },
     "metadata": {},
     "output_type": "display_data"
    },
    {
     "data": {
      "text/plain": [
       "<function __main__.int_potencial_energia>"
      ]
     },
     "execution_count": 13,
     "metadata": {},
     "output_type": "execute_result"
    }
   ],
   "source": [
    "def int_potencial_energia(V_0:(.1, 10., .1), E:(.1, 10., .1), a:(.1, 5, .1), L:(1., 10., .5), N:(10, 200, 10)):\n",
    "    dx = L / N\n",
    "    x = [-L/2 + i*dx for i in range(N+1)]\n",
    "    y = [potencial(V_0, a, i) for i in x]\n",
    "    graficar_potencial(x, y)\n",
    "    graficar_autovalor(L, E)\n",
    "    if E > V_0:\n",
    "        plt.text(0, E+0.2, 'No ligado')\n",
    "    else:\n",
    "        plt.text(0, E+0.2, 'Ligado')\n",
    "    plt.show()\n",
    "    \n",
    "interact(int_potencial_energia)"
   ]
  },
  {
   "cell_type": "markdown",
   "metadata": {},
   "source": [
    "### Graficación de autofunciones  \n",
    "\n",
    "La visualización de las autofunciones (y su módulo cuadrado), nos permite reconocer visualmente la distribución de probabilidad del sistema e identificar los puntos espaciales más probables para la ubicación de la particula analizada.\n",
    "\n",
    "Para la correcta visualización, la graficación de la función de onda debe considerar una normalización de escala, no necesariamente al valor de la unidad del eje, pero si como referencia un valor numerico comprendido por los valores máximos de potencial, que corresponden a la parte del gráfico más cercana al margen superior del recuadro de graficación. El no realizar este reescalamiento, podría afectar la visualización del potencial y de la energía, ya que el eje se reajusta a los datos máximos y mínimos.  \n",
    "\n",
    "$$ \\psi^{\\prime}(x) = \\frac{\\psi(x)}{\\max \\psi(x)} V_\\text{máx} $$"
   ]
  },
  {
   "cell_type": "markdown",
   "metadata": {},
   "source": [
    "La graficación de las autofunciones es mediante el comando `plot` tradicional, y solo tiene de elemento adicional su reescalamiento con base al potencial máximo en la región de interes."
   ]
  },
  {
   "cell_type": "code",
   "execution_count": 14,
   "metadata": {},
   "outputs": [],
   "source": [
    "def graficar_autofuncion(x, psi_x, V_max):\n",
    "    psi_max = max([abs(i) for i in psi_x])\n",
    "    escala = V_max / psi_max\n",
    "    psi_x = [i*escala for i in psi_x]\n",
    "    plt.plot(x, psi_x, '-')"
   ]
  },
  {
   "cell_type": "code",
   "execution_count": 16,
   "metadata": {},
   "outputs": [
    {
     "data": {
      "application/vnd.jupyter.widget-view+json": {
       "model_id": "e656e89e95914ed9ae84c9e7de95c421",
       "version_major": 2,
       "version_minor": 0
      },
      "text/plain": [
       "A Jupyter Widget"
      ]
     },
     "metadata": {},
     "output_type": "display_data"
    },
    {
     "data": {
      "text/plain": [
       "<function __main__.int_potencial_auto_ef>"
      ]
     },
     "execution_count": 16,
     "metadata": {},
     "output_type": "execute_result"
    }
   ],
   "source": [
    "def onda(V_0, E, a, x):\n",
    "    if abs(x) <= a/2:\n",
    "        return cos(sqrt(E)*x/2)\n",
    "    else:\n",
    "        a2 = a/2\n",
    "        k1 = sqrt(V_0 - E)\n",
    "        A = cos(sqrt(E)*a2) / exp(-k1*a2)\n",
    "        signo = abs(x)/x\n",
    "        return A*exp(-signo*k1*x)\n",
    "\n",
    "def int_potencial_auto_ef(V_0:(5., 20., .1), E:(.1, 20., .1), a:(2.5, 30., .1), L:(10., 100., 5.), N:(10, 200, 10)):\n",
    "    dx = L / N\n",
    "    x = [-L/2 + i*dx for i in range(N+1)]\n",
    "    V = [potencial(V_0, a, i) for i in x]\n",
    "    graficar_potencial(x, V)\n",
    "    graficar_autovalor(L, E)\n",
    "    if E > V_0:\n",
    "        plt.text(0, E+0.2, 'No ligado')\n",
    "    else:\n",
    "        f = [onda(V_0, E, a, i) for i in x]\n",
    "        graficar_autofuncion(x, f, V_0)\n",
    "        plt.text(0, E+0.2, 'Ligado')\n",
    "    plt.show()\n",
    "    \n",
    "interact(int_potencial_auto_ef)"
   ]
  },
  {
   "cell_type": "code",
   "execution_count": null,
   "metadata": {
    "collapsed": true
   },
   "outputs": [],
   "source": []
  }
 ],
 "metadata": {
  "kernelspec": {
   "display_name": "Python 3",
   "language": "python",
   "name": "python3"
  },
  "language_info": {
   "codemirror_mode": {
    "name": "ipython",
    "version": 3
   },
   "file_extension": ".py",
   "mimetype": "text/x-python",
   "name": "python",
   "nbconvert_exporter": "python",
   "pygments_lexer": "ipython3",
   "version": "3.6.3"
  }
 },
 "nbformat": 4,
 "nbformat_minor": 1
}

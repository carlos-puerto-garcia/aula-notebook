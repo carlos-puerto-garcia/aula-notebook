{
 "cells": [
  {
   "cell_type": "code",
   "execution_count": 2,
   "metadata": {},
   "outputs": [],
   "source": [
    "from proofs import diff_methods"
   ]
  },
  {
   "cell_type": "markdown",
   "metadata": {},
   "source": [
    "Para observar los pasos de la demostración de un método de derivación use la siguiente línea reemplazando su argumento por el número de puntos que desea en la aproximación. De forma automatica se construirán los pasos para su deducción, en las formas hacia adelante, hacia atrás, y en caso de ser un número impar de puntos su forma central.  \n",
    "Tenga en cuenta que los casos prácticos no poseen muchos puntos debido al incremento del número de operaciones lo cual a su vez se traduce en el aumento del error de representación por propagación, y entre más puntos la generación de la deducción tomará más tiempo.  "
   ]
  },
  {
   "cell_type": "code",
   "execution_count": 6,
   "metadata": {},
   "outputs": [
    {
     "data": {
      "text/markdown": [
       "# Diferenciación numérica"
      ],
      "text/plain": [
       "<IPython.core.display.Markdown object>"
      ]
     },
     "metadata": {},
     "output_type": "display_data"
    },
    {
     "data": {
      "text/markdown": [
       "## Polinomio interpolante  \n",
       "Como primer paso se construyen los polinomios de Lagrange asociados a cada uno de los 5 puntos $x_i$ solicitados para la interpolación. Tenga en cuenta que los polinomios serán de grado 4."
      ],
      "text/plain": [
       "<IPython.core.display.Markdown object>"
      ]
     },
     "metadata": {},
     "output_type": "display_data"
    },
    {
     "data": {
      "text/latex": [
       "$$L_{i,n}(x) = \\prod_{j=0 \\ j\\neq i}^n \\frac{x-x_j}{x_i-x_j}$$"
      ],
      "text/plain": [
       "<IPython.core.display.Latex object>"
      ]
     },
     "metadata": {},
     "output_type": "display_data"
    },
    {
     "data": {
      "text/latex": [
       "$$L_{{0,5}}(x)=\\frac{\\left(x - x_{1}\\right) \\left(x - x_{2}\\right) \\left(x - x_{3}\\right) \\left(x - x_{4}\\right)}{\\left(x_{0} - x_{1}\\right) \\left(x_{0} - x_{2}\\right) \\left(x_{0} - x_{3}\\right) \\left(x_{0} - x_{4}\\right)}$$"
      ],
      "text/plain": [
       "<IPython.core.display.Latex object>"
      ]
     },
     "metadata": {},
     "output_type": "display_data"
    },
    {
     "data": {
      "text/latex": [
       "$$L_{{1,5}}(x)=\\frac{\\left(x - x_{0}\\right) \\left(x - x_{2}\\right) \\left(x - x_{3}\\right) \\left(x - x_{4}\\right)}{\\left(- x_{0} + x_{1}\\right) \\left(x_{1} - x_{2}\\right) \\left(x_{1} - x_{3}\\right) \\left(x_{1} - x_{4}\\right)}$$"
      ],
      "text/plain": [
       "<IPython.core.display.Latex object>"
      ]
     },
     "metadata": {},
     "output_type": "display_data"
    },
    {
     "data": {
      "text/latex": [
       "$$L_{{2,5}}(x)=\\frac{\\left(x - x_{0}\\right) \\left(x - x_{1}\\right) \\left(x - x_{3}\\right) \\left(x - x_{4}\\right)}{\\left(- x_{0} + x_{2}\\right) \\left(- x_{1} + x_{2}\\right) \\left(x_{2} - x_{3}\\right) \\left(x_{2} - x_{4}\\right)}$$"
      ],
      "text/plain": [
       "<IPython.core.display.Latex object>"
      ]
     },
     "metadata": {},
     "output_type": "display_data"
    },
    {
     "data": {
      "text/latex": [
       "$$L_{{3,5}}(x)=\\frac{\\left(x - x_{0}\\right) \\left(x - x_{1}\\right) \\left(x - x_{2}\\right) \\left(x - x_{4}\\right)}{\\left(- x_{0} + x_{3}\\right) \\left(- x_{1} + x_{3}\\right) \\left(- x_{2} + x_{3}\\right) \\left(x_{3} - x_{4}\\right)}$$"
      ],
      "text/plain": [
       "<IPython.core.display.Latex object>"
      ]
     },
     "metadata": {},
     "output_type": "display_data"
    },
    {
     "data": {
      "text/latex": [
       "$$L_{{4,5}}(x)=\\frac{\\left(x - x_{0}\\right) \\left(x - x_{1}\\right) \\left(x - x_{2}\\right) \\left(x - x_{3}\\right)}{\\left(- x_{0} + x_{4}\\right) \\left(- x_{1} + x_{4}\\right) \\left(- x_{2} + x_{4}\\right) \\left(- x_{3} + x_{4}\\right)}$$"
      ],
      "text/plain": [
       "<IPython.core.display.Latex object>"
      ]
     },
     "metadata": {},
     "output_type": "display_data"
    },
    {
     "data": {
      "text/markdown": [
       "Ahora, con los polinomios de Lagrange construidos y la evaluación de la función en los puntos, construimos el polinomio interpolante de grado 4, que suponemos como aproximación a la función."
      ],
      "text/plain": [
       "<IPython.core.display.Markdown object>"
      ]
     },
     "metadata": {},
     "output_type": "display_data"
    },
    {
     "data": {
      "text/latex": [
       "$$P_5(x)=\\frac{\\left(x - x_{0}\\right) \\left(x - x_{1}\\right) \\left(x - x_{2}\\right) \\left(x - x_{3}\\right) f{\\left (x_{4} \\right )}}{\\left(- x_{0} + x_{4}\\right) \\left(- x_{1} + x_{4}\\right) \\left(- x_{2} + x_{4}\\right) \\left(- x_{3} + x_{4}\\right)} + \\frac{\\left(x - x_{0}\\right) \\left(x - x_{1}\\right) \\left(x - x_{2}\\right) \\left(x - x_{4}\\right) f{\\left (x_{3} \\right )}}{\\left(- x_{0} + x_{3}\\right) \\left(- x_{1} + x_{3}\\right) \\left(- x_{2} + x_{3}\\right) \\left(x_{3} - x_{4}\\right)} + \\frac{\\left(x - x_{0}\\right) \\left(x - x_{1}\\right) \\left(x - x_{3}\\right) \\left(x - x_{4}\\right) f{\\left (x_{2} \\right )}}{\\left(- x_{0} + x_{2}\\right) \\left(- x_{1} + x_{2}\\right) \\left(x_{2} - x_{3}\\right) \\left(x_{2} - x_{4}\\right)} + \\frac{\\left(x - x_{0}\\right) \\left(x - x_{2}\\right) \\left(x - x_{3}\\right) \\left(x - x_{4}\\right) f{\\left (x_{1} \\right )}}{\\left(- x_{0} + x_{1}\\right) \\left(x_{1} - x_{2}\\right) \\left(x_{1} - x_{3}\\right) \\left(x_{1} - x_{4}\\right)} + \\frac{\\left(x - x_{1}\\right) \\left(x - x_{2}\\right) \\left(x - x_{3}\\right) \\left(x - x_{4}\\right) f{\\left (x_{0} \\right )}}{\\left(x_{0} - x_{1}\\right) \\left(x_{0} - x_{2}\\right) \\left(x_{0} - x_{3}\\right) \\left(x_{0} - x_{4}\\right)}$$"
      ],
      "text/plain": [
       "<IPython.core.display.Latex object>"
      ]
     },
     "metadata": {},
     "output_type": "display_data"
    },
    {
     "data": {
      "text/markdown": [
       "## Derivada analitica \n",
       "Usando el polinomio interpolante, derivamos analiticamente respecto a la variable $x$, y obtenemos la siguiente aproximación.  "
      ],
      "text/plain": [
       "<IPython.core.display.Markdown object>"
      ]
     },
     "metadata": {},
     "output_type": "display_data"
    },
    {
     "data": {
      "text/latex": [
       "$$\\frac{df(x)}{dx}\\approx\\frac{L_5(x)}{dx}=\\frac{\\left(x - x_{0}\\right) \\left(x - x_{1}\\right) \\left(x - x_{2}\\right) f{\\left (x_{4} \\right )}}{\\left(- x_{0} + x_{4}\\right) \\left(- x_{1} + x_{4}\\right) \\left(- x_{2} + x_{4}\\right) \\left(- x_{3} + x_{4}\\right)} + \\frac{\\left(x - x_{0}\\right) \\left(x - x_{1}\\right) \\left(x - x_{2}\\right) f{\\left (x_{3} \\right )}}{\\left(- x_{0} + x_{3}\\right) \\left(- x_{1} + x_{3}\\right) \\left(- x_{2} + x_{3}\\right) \\left(x_{3} - x_{4}\\right)} + \\frac{\\left(x - x_{0}\\right) \\left(x - x_{1}\\right) \\left(x - x_{3}\\right) f{\\left (x_{4} \\right )}}{\\left(- x_{0} + x_{4}\\right) \\left(- x_{1} + x_{4}\\right) \\left(- x_{2} + x_{4}\\right) \\left(- x_{3} + x_{4}\\right)} + \\frac{\\left(x - x_{0}\\right) \\left(x - x_{1}\\right) \\left(x - x_{3}\\right) f{\\left (x_{2} \\right )}}{\\left(- x_{0} + x_{2}\\right) \\left(- x_{1} + x_{2}\\right) \\left(x_{2} - x_{3}\\right) \\left(x_{2} - x_{4}\\right)} + \\frac{\\left(x - x_{0}\\right) \\left(x - x_{1}\\right) \\left(x - x_{4}\\right) f{\\left (x_{3} \\right )}}{\\left(- x_{0} + x_{3}\\right) \\left(- x_{1} + x_{3}\\right) \\left(- x_{2} + x_{3}\\right) \\left(x_{3} - x_{4}\\right)} + \\frac{\\left(x - x_{0}\\right) \\left(x - x_{1}\\right) \\left(x - x_{4}\\right) f{\\left (x_{2} \\right )}}{\\left(- x_{0} + x_{2}\\right) \\left(- x_{1} + x_{2}\\right) \\left(x_{2} - x_{3}\\right) \\left(x_{2} - x_{4}\\right)} + \\frac{\\left(x - x_{0}\\right) \\left(x - x_{2}\\right) \\left(x - x_{3}\\right) f{\\left (x_{4} \\right )}}{\\left(- x_{0} + x_{4}\\right) \\left(- x_{1} + x_{4}\\right) \\left(- x_{2} + x_{4}\\right) \\left(- x_{3} + x_{4}\\right)} + \\frac{\\left(x - x_{0}\\right) \\left(x - x_{2}\\right) \\left(x - x_{3}\\right) f{\\left (x_{1} \\right )}}{\\left(- x_{0} + x_{1}\\right) \\left(x_{1} - x_{2}\\right) \\left(x_{1} - x_{3}\\right) \\left(x_{1} - x_{4}\\right)} + \\frac{\\left(x - x_{0}\\right) \\left(x - x_{2}\\right) \\left(x - x_{4}\\right) f{\\left (x_{3} \\right )}}{\\left(- x_{0} + x_{3}\\right) \\left(- x_{1} + x_{3}\\right) \\left(- x_{2} + x_{3}\\right) \\left(x_{3} - x_{4}\\right)} + \\frac{\\left(x - x_{0}\\right) \\left(x - x_{2}\\right) \\left(x - x_{4}\\right) f{\\left (x_{1} \\right )}}{\\left(- x_{0} + x_{1}\\right) \\left(x_{1} - x_{2}\\right) \\left(x_{1} - x_{3}\\right) \\left(x_{1} - x_{4}\\right)} + \\frac{\\left(x - x_{0}\\right) \\left(x - x_{3}\\right) \\left(x - x_{4}\\right) f{\\left (x_{2} \\right )}}{\\left(- x_{0} + x_{2}\\right) \\left(- x_{1} + x_{2}\\right) \\left(x_{2} - x_{3}\\right) \\left(x_{2} - x_{4}\\right)} + \\frac{\\left(x - x_{0}\\right) \\left(x - x_{3}\\right) \\left(x - x_{4}\\right) f{\\left (x_{1} \\right )}}{\\left(- x_{0} + x_{1}\\right) \\left(x_{1} - x_{2}\\right) \\left(x_{1} - x_{3}\\right) \\left(x_{1} - x_{4}\\right)} + \\frac{\\left(x - x_{1}\\right) \\left(x - x_{2}\\right) \\left(x - x_{3}\\right) f{\\left (x_{0} \\right )}}{\\left(x_{0} - x_{1}\\right) \\left(x_{0} - x_{2}\\right) \\left(x_{0} - x_{3}\\right) \\left(x_{0} - x_{4}\\right)} + \\frac{\\left(x - x_{1}\\right) \\left(x - x_{2}\\right) \\left(x - x_{3}\\right) f{\\left (x_{4} \\right )}}{\\left(- x_{0} + x_{4}\\right) \\left(- x_{1} + x_{4}\\right) \\left(- x_{2} + x_{4}\\right) \\left(- x_{3} + x_{4}\\right)} + \\frac{\\left(x - x_{1}\\right) \\left(x - x_{2}\\right) \\left(x - x_{4}\\right) f{\\left (x_{0} \\right )}}{\\left(x_{0} - x_{1}\\right) \\left(x_{0} - x_{2}\\right) \\left(x_{0} - x_{3}\\right) \\left(x_{0} - x_{4}\\right)} + \\frac{\\left(x - x_{1}\\right) \\left(x - x_{2}\\right) \\left(x - x_{4}\\right) f{\\left (x_{3} \\right )}}{\\left(- x_{0} + x_{3}\\right) \\left(- x_{1} + x_{3}\\right) \\left(- x_{2} + x_{3}\\right) \\left(x_{3} - x_{4}\\right)} + \\frac{\\left(x - x_{1}\\right) \\left(x - x_{3}\\right) \\left(x - x_{4}\\right) f{\\left (x_{0} \\right )}}{\\left(x_{0} - x_{1}\\right) \\left(x_{0} - x_{2}\\right) \\left(x_{0} - x_{3}\\right) \\left(x_{0} - x_{4}\\right)} + \\frac{\\left(x - x_{1}\\right) \\left(x - x_{3}\\right) \\left(x - x_{4}\\right) f{\\left (x_{2} \\right )}}{\\left(- x_{0} + x_{2}\\right) \\left(- x_{1} + x_{2}\\right) \\left(x_{2} - x_{3}\\right) \\left(x_{2} - x_{4}\\right)} + \\frac{\\left(x - x_{2}\\right) \\left(x - x_{3}\\right) \\left(x - x_{4}\\right) f{\\left (x_{0} \\right )}}{\\left(x_{0} - x_{1}\\right) \\left(x_{0} - x_{2}\\right) \\left(x_{0} - x_{3}\\right) \\left(x_{0} - x_{4}\\right)} + \\frac{\\left(x - x_{2}\\right) \\left(x - x_{3}\\right) \\left(x - x_{4}\\right) f{\\left (x_{1} \\right )}}{\\left(- x_{0} + x_{1}\\right) \\left(x_{1} - x_{2}\\right) \\left(x_{1} - x_{3}\\right) \\left(x_{1} - x_{4}\\right)}$$"
      ],
      "text/plain": [
       "<IPython.core.display.Latex object>"
      ]
     },
     "metadata": {},
     "output_type": "display_data"
    },
    {
     "data": {
      "text/markdown": [
       "Ahora, sustituimos la condición de puntos equidistantes con separación $h$ y factorizando."
      ],
      "text/plain": [
       "<IPython.core.display.Markdown object>"
      ]
     },
     "metadata": {},
     "output_type": "display_data"
    },
    {
     "data": {
      "text/markdown": [
       "Diferencias hacia atras, $x_i \\rightarrow x_0 - (4-i)h$, y posteriormente $x \\rightarrow x_0$."
      ],
      "text/plain": [
       "<IPython.core.display.Markdown object>"
      ]
     },
     "metadata": {},
     "output_type": "display_data"
    },
    {
     "data": {
      "text/latex": [
       "$$\\left.\\frac{df(x)}{dx}\\right|_{x=x_0}\\approx\\frac{1}{12 h} \\left(25 f{\\left (x_{0} \\right )} + 3 f{\\left (- 4 h + x_{0} \\right )} - 16 f{\\left (- 3 h + x_{0} \\right )} + 36 f{\\left (- 2 h + x_{0} \\right )} - 48 f{\\left (- h + x_{0} \\right )}\\right)$$"
      ],
      "text/plain": [
       "<IPython.core.display.Latex object>"
      ]
     },
     "metadata": {},
     "output_type": "display_data"
    },
    {
     "data": {
      "text/markdown": [
       "Diferencias hacia adelante, $x_i \\rightarrow x_0 + ih$, y posteriormente $x \\rightarrow x_0$."
      ],
      "text/plain": [
       "<IPython.core.display.Markdown object>"
      ]
     },
     "metadata": {},
     "output_type": "display_data"
    },
    {
     "data": {
      "text/latex": [
       "$$\\left.\\frac{df(x)}{dx}\\right|_{x=x_0}\\approx\\frac{1}{12 h} \\left(- 25 f{\\left (x_{0} \\right )} + 48 f{\\left (h + x_{0} \\right )} - 36 f{\\left (2 h + x_{0} \\right )} + 16 f{\\left (3 h + x_{0} \\right )} - 3 f{\\left (4 h + x_{0} \\right )}\\right)$$"
      ],
      "text/plain": [
       "<IPython.core.display.Latex object>"
      ]
     },
     "metadata": {},
     "output_type": "display_data"
    },
    {
     "data": {
      "text/markdown": [
       "Diferencias centradas, $x_i \\rightarrow x_0 + \\left(i - \\frac{5 - 1}{2}\\right)h$, y posteriormente $x \\rightarrow x_0$."
      ],
      "text/plain": [
       "<IPython.core.display.Markdown object>"
      ]
     },
     "metadata": {},
     "output_type": "display_data"
    },
    {
     "data": {
      "text/latex": [
       "$$\\left.\\frac{df(x)}{dx}\\right|_{x=x_0}\\approx\\frac{1}{12 h} \\left(f{\\left (- 2 h + x_{0} \\right )} - 8 f{\\left (- h + x_{0} \\right )} + 8 f{\\left (h + x_{0} \\right )} - f{\\left (2 h + x_{0} \\right )}\\right)$$"
      ],
      "text/plain": [
       "<IPython.core.display.Latex object>"
      ]
     },
     "metadata": {},
     "output_type": "display_data"
    }
   ],
   "source": [
    "diff_methods(5)"
   ]
  }
 ],
 "metadata": {
  "kernelspec": {
   "display_name": "Python 3",
   "language": "python",
   "name": "python3"
  },
  "language_info": {
   "codemirror_mode": {
    "name": "ipython",
    "version": 3
   },
   "file_extension": ".py",
   "mimetype": "text/x-python",
   "name": "python",
   "nbconvert_exporter": "python",
   "pygments_lexer": "ipython3",
   "version": "3.6.3"
  }
 },
 "nbformat": 4,
 "nbformat_minor": 1
}

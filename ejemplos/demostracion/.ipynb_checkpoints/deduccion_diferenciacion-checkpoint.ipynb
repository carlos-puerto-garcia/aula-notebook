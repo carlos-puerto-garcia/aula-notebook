{
 "cells": [
  {
   "cell_type": "code",
   "execution_count": null,
   "metadata": {},
   "outputs": [],
   "source": [
    "from proofs import diff_methods"
   ]
  },
  {
   "cell_type": "markdown",
   "metadata": {},
   "source": [
    "Para observar los pasos de la demostración de un método de derivación use la siguiente línea reemplazando su argumento por el número de puntos que desea en la aproximación. De forma automatica se construirán los pasos para su deducción, en las formas hacia adelante, hacia atrás, y en caso de ser un número impar de puntos su forma central.  \n",
    "Tenga en cuenta que los casos prácticos no poseen muchos puntos debido al incremento del número de operaciones lo cual a su vez se traduce en el aumento del error de representación por propagación, y entre más puntos la generación de la deducción tomará más tiempo.  "
   ]
  },
  {
   "cell_type": "code",
   "execution_count": null,
   "metadata": {},
   "outputs": [],
   "source": [
    "diff_methods(3)"
   ]
  }
 ],
 "metadata": {
  "kernelspec": {
   "display_name": "Python 3",
   "language": "python",
   "name": "python3"
  },
  "language_info": {
   "codemirror_mode": {
    "name": "ipython",
    "version": 3
   },
   "file_extension": ".py",
   "mimetype": "text/x-python",
   "name": "python",
   "nbconvert_exporter": "python",
   "pygments_lexer": "ipython3",
   "version": "3.6.3"
  }
 },
 "nbformat": 4,
 "nbformat_minor": 1
}

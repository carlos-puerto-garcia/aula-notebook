{
 "cells": [
  {
   "cell_type": "code",
   "execution_count": 2,
   "metadata": {
    "collapsed": true
   },
   "outputs": [],
   "source": [
    "from proofs import integral_methods"
   ]
  },
  {
   "cell_type": "markdown",
   "metadata": {},
   "source": [
    "Para observar los pasos de la demostración de un método de integración use la siguiente línea reemplazando su argumento por el número de puntos que desea en la aproximación. De forma automatica se construirán los pasos para su deducción.  \n",
    "Tenga en cuenta que los casos prácticos no poseen muchos puntos debido al incremento del número de operaciones lo cual a su vez se traduce en el aumento del error de representación por propagación, y entre más puntos la generación de la deducción tomará más tiempo.  \n",
    "Acorde a los métodos clásicos, use los siguientes números de puntos:  \n",
    "\n",
    "| Número de puntos | Método de integración |  \n",
    "|:---:|:---|  \n",
    "|2|Trapecio|  \n",
    "|3|Simpson $1/3$|  \n",
    "|4|Simpson $3/8$|  \n",
    "\n",
    "Notese que el nombre de los últimos dos casos corresponde al factor común que se extrae de las expresiones, y el primer caso debido a la geometría formada por dicha aproximación (observe que su aproximación es igual a la formula del área de dicha geometría).  "
   ]
  },
  {
   "cell_type": "code",
   "execution_count": null,
   "metadata": {
    "scrolled": false
   },
   "outputs": [],
   "source": [
    "integral_methods(5)"
   ]
  }
 ],
 "metadata": {
  "kernelspec": {
   "display_name": "Python 3",
   "language": "python",
   "name": "python3"
  },
  "language_info": {
   "codemirror_mode": {
    "name": "ipython",
    "version": 3
   },
   "file_extension": ".py",
   "mimetype": "text/x-python",
   "name": "python",
   "nbconvert_exporter": "python",
   "pygments_lexer": "ipython3",
   "version": "3.6.3"
  }
 },
 "nbformat": 4,
 "nbformat_minor": 1
}
